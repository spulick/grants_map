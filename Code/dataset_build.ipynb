{
 "cells": [
  {
   "cell_type": "code",
   "execution_count": 1,
   "id": "5615c6b9",
   "metadata": {},
   "outputs": [],
   "source": [
    "import pandas as pd\n",
    "import glob\n",
    "from pprint import pprint"
   ]
  },
  {
   "cell_type": "code",
   "execution_count": 2,
   "metadata": {},
   "outputs": [
    {
     "name": "stdout",
     "output_type": "stream",
     "text": [
      "Reading files...\n",
      "Cleaning data...\n"
     ]
    }
   ],
   "source": [
    "files = glob.glob('../Data/Archive/GrantConnect*.xlsx')\n",
    "\n",
    "print(\"Reading files...\")\n",
    "\n",
    "grants = pd.concat([pd.read_excel(f, header=2) for f in files], ignore_index=True)\n",
    "\n",
    "print(\"Cleaning data...\")"
   ]
  },
  {
   "cell_type": "code",
   "execution_count": 4,
   "metadata": {},
   "outputs": [
    {
     "name": "stdout",
     "output_type": "stream",
     "text": [
      "Finding LGAs...\n"
     ]
    }
   ],
   "source": [
    "grants = grants[grants[\"Agency\"] != \"Australian Securities and Investments Commission\"]\n",
    "\n",
    "removal_tags = r\"mission|service| care| inc|incorporated|business|technologies|national|company|school|health|pty|ltd|intl|international|college|institute|local|university|church|uca |arts |private|limited|trust|hospital|aboriginal corporat| lands* council|association|centre|federation|australia|community|cancer\"\n",
    "\n",
    "grants = grants[~grants[\"Recipient Name\"].str.contains(removal_tags, case=False, na=True)]\n",
    "\n",
    "councils = grants[grants[\"Recipient Name\"].str.contains(r\"council|shire|city\", case=False, na=True)]\n",
    "\n",
    "print(\"Finding LGAs...\")\n",
    "\n",
    "lgas = pd.read_csv(\"../Data/Working Data/ALGA Mail List.csv\", encoding='latin1')\n",
    "\n",
    "lgas[\"STATE\"] = lgas[\"STATE\"].replace({\"TAS\": \"Tas.\"})\n",
    "lgas.loc[lgas[\"COUNCIL\"] == \"Central Coast Council\", \"COUNCIL\"] = lgas[lgas[\"COUNCIL\"] == \"Central Coast Council\"][\"COUNCIL\"] + \" (\" + lgas[lgas['COUNCIL'] == 'Central Coast Council']['STATE'] + \")\"\n",
    "\n",
    "council_names = lgas[\"COUNCIL\"].dropna().to_list()"
   ]
  },
  {
   "cell_type": "code",
   "execution_count": 5,
   "id": "f6d17024",
   "metadata": {},
   "outputs": [],
   "source": [
    "councils.loc[councils[\"Recipient Name\"].str.lower().str.contains(r\"central coast\"), \"Recipient Name\"] = councils[councils[\"Recipient Name\"].str.lower().str.contains(r\"central coast\")][\"Recipient Name\"] + \" (\" + councils[councils[\"Recipient Name\"].str.lower().str.contains(r\"central coast\")][\"Recipient State/Territory\"] + \")\""
   ]
  },
  {
   "cell_type": "code",
   "execution_count": 18,
   "id": "968e41b1",
   "metadata": {},
   "outputs": [
    {
     "data": {
      "application/vnd.microsoft.datawrangler.viewer.v0+json": {
       "columns": [
        {
         "name": "index",
         "rawType": "int64",
         "type": "integer"
        },
        {
         "name": "COUNCIL",
         "rawType": "object",
         "type": "string"
        },
        {
         "name": "POSTAL ADDRESS",
         "rawType": "object",
         "type": "string"
        },
        {
         "name": "CITY",
         "rawType": "object",
         "type": "string"
        },
        {
         "name": "STATE",
         "rawType": "object",
         "type": "string"
        },
        {
         "name": "P/CODE",
         "rawType": "float64",
         "type": "float"
        },
        {
         "name": "PHONE",
         "rawType": "object",
         "type": "string"
        },
        {
         "name": "WEBSITE",
         "rawType": "object",
         "type": "string"
        },
        {
         "name": "Mayor",
         "rawType": "object",
         "type": "string"
        },
        {
         "name": "MAYOR_POSITION",
         "rawType": "object",
         "type": "string"
        },
        {
         "name": "MAYOR_FNAME",
         "rawType": "object",
         "type": "string"
        },
        {
         "name": "MAYOR_LNAME",
         "rawType": "object",
         "type": "string"
        },
        {
         "name": "EMAIL",
         "rawType": "object",
         "type": "string"
        },
        {
         "name": "CEO_TITLE",
         "rawType": "object",
         "type": "string"
        },
        {
         "name": "CEO_FNAME",
         "rawType": "object",
         "type": "string"
        },
        {
         "name": "CEO_LNAME",
         "rawType": "object",
         "type": "string"
        },
        {
         "name": "CEO_POSITION",
         "rawType": "object",
         "type": "string"
        },
        {
         "name": "Unnamed: 16",
         "rawType": "float64",
         "type": "float"
        },
        {
         "name": "Unnamed: 17",
         "rawType": "float64",
         "type": "float"
        },
        {
         "name": "Unnamed: 18",
         "rawType": "float64",
         "type": "float"
        }
       ],
       "conversionMethod": "pd.DataFrame",
       "ref": "dd4fa2e8-8b98-4940-a836-8b2d11e9640c",
       "rows": [
        [
         "21",
         "Campbelltown City Council",
         "PO Box 57",
         "CAMPBELLTOWN",
         "NSW",
         "2560.0",
         "02 4645 4000",
         "www.campbelltown.nsw.gov.au",
         "Mayor",
         "Mayor",
         "George",
         "Greiss",
         "council@campbelltown.nsw.gov.au",
         "Ms",
         "Lindy",
         "Deitz",
         "General Manager",
         null,
         null,
         null
        ],
        [
         "227",
         "Campbelltown City Council",
         "PO Box 1",
         "CAMPBELLTOWN  ",
         "SA",
         "5074.0",
         "08 8366 9222",
         "www.campbelltown.sa.gov.au",
         "Mayor",
         "Mayor",
         "Jill",
         "Whittaker  OAM",
         "mail@campbelltown.sa.gov.au",
         "Mr",
         "Paul",
         "Di Lulio",
         "Chief Executive Officer",
         null,
         null,
         null
        ]
       ],
       "shape": {
        "columns": 19,
        "rows": 2
       }
      },
      "text/html": [
       "<div>\n",
       "<style scoped>\n",
       "    .dataframe tbody tr th:only-of-type {\n",
       "        vertical-align: middle;\n",
       "    }\n",
       "\n",
       "    .dataframe tbody tr th {\n",
       "        vertical-align: top;\n",
       "    }\n",
       "\n",
       "    .dataframe thead th {\n",
       "        text-align: right;\n",
       "    }\n",
       "</style>\n",
       "<table border=\"1\" class=\"dataframe\">\n",
       "  <thead>\n",
       "    <tr style=\"text-align: right;\">\n",
       "      <th></th>\n",
       "      <th>COUNCIL</th>\n",
       "      <th>POSTAL ADDRESS</th>\n",
       "      <th>CITY</th>\n",
       "      <th>STATE</th>\n",
       "      <th>P/CODE</th>\n",
       "      <th>PHONE</th>\n",
       "      <th>WEBSITE</th>\n",
       "      <th>Mayor</th>\n",
       "      <th>MAYOR_POSITION</th>\n",
       "      <th>MAYOR_FNAME</th>\n",
       "      <th>MAYOR_LNAME</th>\n",
       "      <th>EMAIL</th>\n",
       "      <th>CEO_TITLE</th>\n",
       "      <th>CEO_FNAME</th>\n",
       "      <th>CEO_LNAME</th>\n",
       "      <th>CEO_POSITION</th>\n",
       "      <th>Unnamed: 16</th>\n",
       "      <th>Unnamed: 17</th>\n",
       "      <th>Unnamed: 18</th>\n",
       "    </tr>\n",
       "  </thead>\n",
       "  <tbody>\n",
       "    <tr>\n",
       "      <th>21</th>\n",
       "      <td>Campbelltown City Council</td>\n",
       "      <td>PO Box 57</td>\n",
       "      <td>CAMPBELLTOWN</td>\n",
       "      <td>NSW</td>\n",
       "      <td>2560.0</td>\n",
       "      <td>02 4645 4000</td>\n",
       "      <td>www.campbelltown.nsw.gov.au</td>\n",
       "      <td>Mayor</td>\n",
       "      <td>Mayor</td>\n",
       "      <td>George</td>\n",
       "      <td>Greiss</td>\n",
       "      <td>council@campbelltown.nsw.gov.au</td>\n",
       "      <td>Ms</td>\n",
       "      <td>Lindy</td>\n",
       "      <td>Deitz</td>\n",
       "      <td>General Manager</td>\n",
       "      <td>NaN</td>\n",
       "      <td>NaN</td>\n",
       "      <td>NaN</td>\n",
       "    </tr>\n",
       "    <tr>\n",
       "      <th>227</th>\n",
       "      <td>Campbelltown City Council</td>\n",
       "      <td>PO Box 1</td>\n",
       "      <td>CAMPBELLTOWN</td>\n",
       "      <td>SA</td>\n",
       "      <td>5074.0</td>\n",
       "      <td>08 8366 9222</td>\n",
       "      <td>www.campbelltown.sa.gov.au</td>\n",
       "      <td>Mayor</td>\n",
       "      <td>Mayor</td>\n",
       "      <td>Jill</td>\n",
       "      <td>Whittaker  OAM</td>\n",
       "      <td>mail@campbelltown.sa.gov.au</td>\n",
       "      <td>Mr</td>\n",
       "      <td>Paul</td>\n",
       "      <td>Di Lulio</td>\n",
       "      <td>Chief Executive Officer</td>\n",
       "      <td>NaN</td>\n",
       "      <td>NaN</td>\n",
       "      <td>NaN</td>\n",
       "    </tr>\n",
       "  </tbody>\n",
       "</table>\n",
       "</div>"
      ],
      "text/plain": [
       "                       COUNCIL POSTAL ADDRESS            CITY STATE  P/CODE  \\\n",
       "21   Campbelltown City Council      PO Box 57    CAMPBELLTOWN   NSW  2560.0   \n",
       "227  Campbelltown City Council       PO Box 1  CAMPBELLTOWN      SA  5074.0   \n",
       "\n",
       "            PHONE                      WEBSITE  Mayor MAYOR_POSITION  \\\n",
       "21   02 4645 4000  www.campbelltown.nsw.gov.au  Mayor          Mayor   \n",
       "227  08 8366 9222   www.campbelltown.sa.gov.au  Mayor          Mayor   \n",
       "\n",
       "    MAYOR_FNAME     MAYOR_LNAME                            EMAIL CEO_TITLE  \\\n",
       "21       George          Greiss  council@campbelltown.nsw.gov.au        Ms   \n",
       "227        Jill  Whittaker  OAM      mail@campbelltown.sa.gov.au        Mr   \n",
       "\n",
       "    CEO_FNAME CEO_LNAME             CEO_POSITION  Unnamed: 16  Unnamed: 17  \\\n",
       "21      Lindy     Deitz          General Manager          NaN          NaN   \n",
       "227      Paul  Di Lulio  Chief Executive Officer          NaN          NaN   \n",
       "\n",
       "     Unnamed: 18  \n",
       "21           NaN  \n",
       "227          NaN  "
      ]
     },
     "execution_count": 18,
     "metadata": {},
     "output_type": "execute_result"
    }
   ],
   "source": [
    "lgas[lgas[\"COUNCIL\"] == \"Campbelltown City Council\"]"
   ]
  },
  {
   "cell_type": "code",
   "execution_count": 9,
   "id": "e72eba4c",
   "metadata": {},
   "outputs": [],
   "source": [
    "from thefuzz import process\n",
    "from thefuzz import fuzz"
   ]
  },
  {
   "cell_type": "code",
   "execution_count": 10,
   "id": "1f0ec029",
   "metadata": {},
   "outputs": [],
   "source": [
    "def similarity(name):\n",
    "    tup = process.extract(name, council_names, scorer=fuzz.partial_ratio)#, score_cutoff=100)\n",
    "\n",
    "    if tup:\n",
    "        tup = [sub for sub in tup if sub[1] == 100]\n",
    "\n",
    "        if len(tup) == 1:\n",
    "            return tup[0][0]\n",
    "        else:\n",
    "            return None\n",
    "    else:\n",
    "        return None"
   ]
  },
  {
   "cell_type": "code",
   "execution_count": 11,
   "id": "35ea3623",
   "metadata": {},
   "outputs": [
    {
     "name": "stderr",
     "output_type": "stream",
     "text": [
      "/tmp/ipykernel_194690/3616084357.py:1: SettingWithCopyWarning: \n",
      "A value is trying to be set on a copy of a slice from a DataFrame.\n",
      "Try using .loc[row_indexer,col_indexer] = value instead\n",
      "\n",
      "See the caveats in the documentation: https://pandas.pydata.org/pandas-docs/stable/user_guide/indexing.html#returning-a-view-versus-a-copy\n",
      "  councils[\"Assigned LGA\"] = councils[\"Recipient Name\"].str.lower().apply(similarity)\n"
     ]
    }
   ],
   "source": [
    "councils[\"Assigned LGA\"] = councils[\"Recipient Name\"].str.lower().apply(similarity)"
   ]
  },
  {
   "cell_type": "code",
   "execution_count": 24,
   "id": "b53fc3ba",
   "metadata": {},
   "outputs": [
    {
     "name": "stdout",
     "output_type": "stream",
     "text": [
      "Finding missing LGAs...\n"
     ]
    }
   ],
   "source": [
    "print(\"Finding missing LGAs...\")\n",
    "\n",
    "import inquirer"
   ]
  },
  {
   "cell_type": "code",
   "execution_count": 25,
   "id": "062e068a",
   "metadata": {},
   "outputs": [],
   "source": [
    "def request_name(name):\n",
    "\n",
    "    names_i = sorted(council_names.copy()) \n",
    "    name = name.lower()\n",
    "\n",
    "    t = 95\n",
    "\n",
    "    answer = \"Other\"\n",
    "\n",
    "    choices = []\n",
    "\n",
    "    temp_name = name.replace(\"town\", \"\").replace(\"council\", \"\").replace(\"city\", \"\").replace(\"shire\", \"\").replace(\"municipality\", \"\").replace(\"of\", \"\").replace(\"corporation\", \"\").replace(\"/\", \" \").replace(\"the\", \"\").replace(\"valley\", \"\").replace(\"mount\", \"\").replace(\"regional\", \"\").strip()\n",
    "\n",
    "    while answer == \"Other\" and t > 50:\n",
    "\n",
    "        names_i = [i for i in names_i if i not in choices]\n",
    "\n",
    "        if t > 75:\n",
    "            choices = [c for c in names_i if fuzz.partial_ratio(temp_name, c.lower()) > t]\n",
    "            \n",
    "            if len(choices) == 0:\n",
    "                t -= 5\n",
    "\n",
    "                print(\"Lowering threshold to\", t)\n",
    "\n",
    "                continue\n",
    "\n",
    "            choices.append(\"Delete\")\n",
    "\n",
    "        else:\n",
    "            choices = [\"Delete\"] + names_i\n",
    "\n",
    "        choices.append(\"Other\")\n",
    "\n",
    "        answer = inquirer.prompt([inquirer.List(\"name\", \n",
    "                                            message=f\"Enter the LGA for {name}\",\n",
    "                                            choices=choices\n",
    "                                            )])\n",
    "        \n",
    "        answer = answer[\"name\"]\n",
    "\n",
    "        t -= 10\n",
    "\n",
    "    if answer == \"Other\":\n",
    "        answer = inquirer.prompt([inquirer.Text(\"name\",\n",
    "                                            message=f\"Enter the LGA for {name} manually\"\n",
    "                                            )])\n",
    "        answer = answer[\"name\"]\n",
    "\n",
    "        while answer.lower() not in council_names:\n",
    "            print(\"The LGA you entered is not in the list. Please enter a valid LGA.\")\n",
    "            answer = inquirer.prompt([inquirer.Text(\"name\",\n",
    "                                            message=f\"Enter the LGA for {name} manually\"\n",
    "                                            )])\n",
    "            answer = answer[\"name\"]\n",
    "\n",
    "    return answer"
   ]
  },
  {
   "cell_type": "code",
   "execution_count": 12,
   "id": "d639dc09",
   "metadata": {},
   "outputs": [],
   "source": [
    "missings = councils[councils[\"Assigned LGA\"].isnull()]"
   ]
  },
  {
   "cell_type": "code",
   "execution_count": 14,
   "id": "675f7ea0",
   "metadata": {},
   "outputs": [
    {
     "data": {
      "application/vnd.microsoft.datawrangler.viewer.v0+json": {
       "columns": [
        {
         "name": "index",
         "rawType": "int64",
         "type": "integer"
        },
        {
         "name": "Agency",
         "rawType": "object",
         "type": "string"
        },
        {
         "name": "Parent GA ID",
         "rawType": "object",
         "type": "string"
        },
        {
         "name": "GA ID",
         "rawType": "object",
         "type": "string"
        },
        {
         "name": "Status",
         "rawType": "object",
         "type": "string"
        },
        {
         "name": "Publish Date",
         "rawType": "object",
         "type": "string"
        },
        {
         "name": "Variation Date",
         "rawType": "datetime64[ns]",
         "type": "datetime"
        },
        {
         "name": "Approval Date",
         "rawType": "datetime64[ns]",
         "type": "datetime"
        },
        {
         "name": "Start Date",
         "rawType": "datetime64[ns]",
         "type": "datetime"
        },
        {
         "name": "End Date",
         "rawType": "datetime64[ns]",
         "type": "datetime"
        },
        {
         "name": "Value (AUD)",
         "rawType": "float64",
         "type": "float"
        },
        {
         "name": "Variation Value (AUD)",
         "rawType": "float64",
         "type": "float"
        },
        {
         "name": "Variation Reason",
         "rawType": "object",
         "type": "string"
        },
        {
         "name": "PBS Program Name",
         "rawType": "object",
         "type": "string"
        },
        {
         "name": "Grant Program",
         "rawType": "object",
         "type": "string"
        },
        {
         "name": "Grant Activity",
         "rawType": "object",
         "type": "string"
        },
        {
         "name": "Purpose",
         "rawType": "object",
         "type": "string"
        },
        {
         "name": "One-off/Ad hoc",
         "rawType": "object",
         "type": "string"
        },
        {
         "name": "Aggregate",
         "rawType": "object",
         "type": "string"
        },
        {
         "name": "Aggregate Reason",
         "rawType": "object",
         "type": "string"
        },
        {
         "name": "Aggregate Number",
         "rawType": "object",
         "type": "string"
        },
        {
         "name": "Selection Process",
         "rawType": "object",
         "type": "string"
        },
        {
         "name": "Category",
         "rawType": "object",
         "type": "string"
        },
        {
         "name": "Internal Reference ID",
         "rawType": "object",
         "type": "string"
        },
        {
         "name": "GO ID",
         "rawType": "object",
         "type": "string"
        },
        {
         "name": "Confidentiality - Contract",
         "rawType": "object",
         "type": "string"
        },
        {
         "name": "Confidentiality Reason(s) - Contract",
         "rawType": "object",
         "type": "string"
        },
        {
         "name": "Confidentiality - Outputs",
         "rawType": "object",
         "type": "string"
        },
        {
         "name": "Confidentiality Reason(s) - Outputs",
         "rawType": "object",
         "type": "string"
        },
        {
         "name": "Recipient Name",
         "rawType": "object",
         "type": "string"
        },
        {
         "name": "Recipient ABN",
         "rawType": "object",
         "type": "string"
        },
        {
         "name": "Recipient Suburb",
         "rawType": "object",
         "type": "string"
        },
        {
         "name": "Recipient Town/City",
         "rawType": "object",
         "type": "string"
        },
        {
         "name": "Recipient Postcode",
         "rawType": "object",
         "type": "string"
        },
        {
         "name": "Recipient State/Territory",
         "rawType": "object",
         "type": "string"
        },
        {
         "name": "Recipient Country",
         "rawType": "object",
         "type": "string"
        },
        {
         "name": "Delivery State/Territory",
         "rawType": "object",
         "type": "string"
        },
        {
         "name": "Delivery Postcode",
         "rawType": "object",
         "type": "string"
        },
        {
         "name": "Delivery Country",
         "rawType": "object",
         "type": "string"
        },
        {
         "name": "Contact Name",
         "rawType": "object",
         "type": "string"
        },
        {
         "name": "Assigned LGA",
         "rawType": "object",
         "type": "string"
        }
       ],
       "conversionMethod": "pd.DataFrame",
       "ref": "9a73b444-ba8b-4227-96be-201b8a9d334f",
       "rows": [],
       "shape": {
        "columns": 40,
        "rows": 0
       }
      },
      "text/html": [
       "<div>\n",
       "<style scoped>\n",
       "    .dataframe tbody tr th:only-of-type {\n",
       "        vertical-align: middle;\n",
       "    }\n",
       "\n",
       "    .dataframe tbody tr th {\n",
       "        vertical-align: top;\n",
       "    }\n",
       "\n",
       "    .dataframe thead th {\n",
       "        text-align: right;\n",
       "    }\n",
       "</style>\n",
       "<table border=\"1\" class=\"dataframe\">\n",
       "  <thead>\n",
       "    <tr style=\"text-align: right;\">\n",
       "      <th></th>\n",
       "      <th>Agency</th>\n",
       "      <th>Parent GA ID</th>\n",
       "      <th>GA ID</th>\n",
       "      <th>Status</th>\n",
       "      <th>Publish Date</th>\n",
       "      <th>Variation Date</th>\n",
       "      <th>Approval Date</th>\n",
       "      <th>Start Date</th>\n",
       "      <th>End Date</th>\n",
       "      <th>Value (AUD)</th>\n",
       "      <th>...</th>\n",
       "      <th>Recipient Suburb</th>\n",
       "      <th>Recipient Town/City</th>\n",
       "      <th>Recipient Postcode</th>\n",
       "      <th>Recipient State/Territory</th>\n",
       "      <th>Recipient Country</th>\n",
       "      <th>Delivery State/Territory</th>\n",
       "      <th>Delivery Postcode</th>\n",
       "      <th>Delivery Country</th>\n",
       "      <th>Contact Name</th>\n",
       "      <th>Assigned LGA</th>\n",
       "    </tr>\n",
       "  </thead>\n",
       "  <tbody>\n",
       "  </tbody>\n",
       "</table>\n",
       "<p>0 rows × 40 columns</p>\n",
       "</div>"
      ],
      "text/plain": [
       "Empty DataFrame\n",
       "Columns: [Agency, Parent GA ID, GA ID, Status, Publish Date, Variation Date, Approval Date, Start Date, End Date, Value (AUD), Variation Value (AUD), Variation Reason, PBS Program Name, Grant Program, Grant Activity, Purpose, One-off/Ad hoc, Aggregate, Aggregate Reason, Aggregate Number, Selection Process, Category, Internal Reference ID, GO ID, Confidentiality - Contract, Confidentiality Reason(s) - Contract, Confidentiality - Outputs, Confidentiality Reason(s) - Outputs, Recipient Name, Recipient ABN, Recipient Suburb, Recipient Town/City, Recipient Postcode, Recipient State/Territory, Recipient Country, Delivery State/Territory, Delivery Postcode, Delivery Country, Contact Name, Assigned LGA]\n",
       "Index: []\n",
       "\n",
       "[0 rows x 40 columns]"
      ]
     },
     "execution_count": 14,
     "metadata": {},
     "output_type": "execute_result"
    }
   ],
   "source": [
    "missings[missings[\"Recipient Name\"].str.lower().str.contains(r\"central coast\")]"
   ]
  },
  {
   "cell_type": "code",
   "execution_count": 28,
   "id": "ef5f2dc5",
   "metadata": {},
   "outputs": [
    {
     "name": "stdout",
     "output_type": "stream",
     "text": [
      "Requesting missing LGAs...\n",
      "There are 158 missing LGAs\n"
     ]
    }
   ],
   "source": [
    "print(\"Requesting missing LGAs...\")\n",
    "\n",
    "print(f\"There are {missings['Recipient Name'].nunique()} missing LGAs\")\n"
   ]
  },
  {
   "cell_type": "code",
   "execution_count": null,
   "id": "2e43f251",
   "metadata": {},
   "outputs": [],
   "source": [
    "for name in missings[\"Recipient Name\"].unique():\n",
    "    councils.loc[councils[\"Recipient Name\"] == name, \"Assigned LGA\"] = request_name(name)\n",
    "\n",
    "#councils[\"Assigned LGA\"] = councils.apply(lambda x: request_name(x[\"Recipient Name\"]) if x[\"Assigned LGA\"] is None else x[\"Assigned LGA\"], axis=1)\n",
    "\n",
    "print(\"Saving data...\")\n",
    "\n",
    "councils = councils[councils[\"Assigned LGA\"] != \"Delete\"]\n",
    "\n",
    "#councils[\"Assigned LGA\"] = councils[\"Assigned LGA\"].apply(lambda x: x.)\n",
    "\n",
    "#councils.to_csv(\"../Data/Working Data/Grants Councils.csv\", index=False)"
   ]
  }
 ],
 "metadata": {
  "kernelspec": {
   "display_name": "grants",
   "language": "python",
   "name": "python3"
  },
  "language_info": {
   "codemirror_mode": {
    "name": "ipython",
    "version": 3
   },
   "file_extension": ".py",
   "mimetype": "text/x-python",
   "name": "python",
   "nbconvert_exporter": "python",
   "pygments_lexer": "ipython3",
   "version": "3.10.16"
  }
 },
 "nbformat": 4,
 "nbformat_minor": 5
}
