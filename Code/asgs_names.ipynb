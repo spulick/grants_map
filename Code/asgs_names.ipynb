{
 "cells": [
  {
   "cell_type": "code",
   "execution_count": 1,
   "metadata": {},
   "outputs": [],
   "source": [
    "import geopandas as gpd\n",
    "import pandas as pd"
   ]
  },
  {
   "cell_type": "code",
   "execution_count": 2,
   "metadata": {},
   "outputs": [],
   "source": [
    "lgas = gpd.read_file(\"../Data/Training Data/LGA_2024_AUST_GDA2020.zip\")\n",
    "council_names = pd.read_csv(\"../Data/Training Data/ALGA Mail List.csv\", encoding=\"latin1\")\n",
    "\n",
    "grants = pd.read_csv(\"../Data/Training Data/Grants Councils.csv\")"
   ]
  },
  {
   "cell_type": "code",
   "execution_count": 3,
   "metadata": {},
   "outputs": [],
   "source": [
    "geometry = lgas[[\"LGA_CODE24\", \"geometry\"]]\n",
    "\n",
    "lgas = pd.DataFrame(lgas.drop(columns=[\"geometry\"]))"
   ]
  },
  {
   "cell_type": "code",
   "execution_count": 4,
   "metadata": {},
   "outputs": [],
   "source": [
    "lgas = lgas[~lgas[\"LGA_NAME24\"].str.contains(r\"Unincorporated|Offshore|No usual address|Outside Australia|Unincorp. Other Territories\")]"
   ]
  },
  {
   "cell_type": "code",
   "execution_count": 5,
   "metadata": {},
   "outputs": [],
   "source": [
    "council_names.dropna(subset=\"COUNCIL\", inplace=True)"
   ]
  },
  {
   "cell_type": "code",
   "execution_count": 6,
   "metadata": {},
   "outputs": [],
   "source": [
    "lgas[\"Council Name\"] = lgas[\"LGA_NAME24\"].apply(lambda x: [i for i in council_names[\"COUNCIL\"] if x in i])\n",
    "lgas[\"Council Name\"] = lgas[\"Council Name\"].apply(lambda x: x[0] if len(x) == 1 else x)"
   ]
  },
  {
   "cell_type": "code",
   "execution_count": 7,
   "metadata": {},
   "outputs": [],
   "source": [
    "replace_dict = {\n",
    "    \"Anangu Pitjantjatjara Yankunytjatjara\" : pd.NA, # HAS TO BE REPLACED\n",
    "    \"Augusta Margaret River\" : \"Shire of Augusta-Margaret River\",\n",
    "    \"Bayside (NSW)\" : \"Bayside Council\",\n",
    "    \"Bayside (Vic.)\" : \"Bayside City Council\",\n",
    "    \"Blackall Tambo\" : \"Blackall-Tambo Regional Council\",\n",
    "    \"Campbelltown (NSW)\" : \"Campbelltown City Council\",\n",
    "    \"Campbelltown (SA)\" : \"Campbelltown City Council (SA)\",\n",
    "    \"Central Coast (NSW)\" : \"Central Coast Council\",\n",
    "    \"Central Coast (Tas.)\" : \"Central Coast Council (Tas.)\",\n",
    "    \"Central Highlands (Qld)\" : \"Central Highlands Regional Council\",\n",
    "    \"Central Highlands (Tas.)\" : \"Central Highlands Council\",\n",
    "    \"Cocos Islands\" : \"Shire of Cocos (Keeling) Islands\",\n",
    "    \"Darwin Waterfront Precinct\" : \"City of Darwin\",\n",
    "    \"Derby-West Kimberley\" : \"Shire of Derby/West Kimberley\",\n",
    "    \"Flinders (Qld)\" : \"Flinders Shire Council\",\n",
    "    \"Flinders (Tas.)\": \"Flinders Council\",\n",
    "    \"Glamorgan-Spring Bay\": \"Glamorgan Spring Bay Council\",\n",
    "    \"Hunters Hill\" : \"Hunter's Hill Council\",\n",
    "    \"Kingston (SA)\" : \"Kingston District Council\",\n",
    "    \"Kingston (Vic.)\" : \"City of Kingston\",\n",
    "    \"Latrobe (Tas.)\" : \"Latrobe Council\",\n",
    "    \"Latrobe (Vic.)\" : \"Latrobe City Council\",\n",
    "    \"Maralinga Tjarutja\" : pd.NA, # HAS TO BE REPLACED\n",
    "    \"Mid-Coast\" : \"Mid Coast Council\",\n",
    "    \"Mount Marshall\" : \"Shire of Mt Marshall\",\n",
    "    \"Nambucca Valley\" : \"Nambucca Shire Council\",\n",
    "    \"Roxby Downs\" : \"Roxby Council\",\n",
    "    \"Serpentine-Jarrahdale\" : \"Shire of Serpentine Jarrahdale\",\n",
    "    \"Waratah-Wynyard\" : \"Waratah - Wynyard Council\",\n",
    "    \"Weipa\" : \"Weipa Town Authority\"\n",
    "}\n",
    "\n",
    "lgas.loc[lgas[\"LGA_NAME24\"].isin(replace_dict.keys()), \"Council Name\"] = lgas.loc[lgas[\"LGA_NAME24\"].isin(replace_dict.keys()), \"LGA_NAME24\"].apply(lambda x: replace_dict[x])"
   ]
  },
  {
   "cell_type": "code",
   "execution_count": 8,
   "metadata": {},
   "outputs": [],
   "source": [
    "lgas = lgas[lgas[\"Council Name\"].notna()]"
   ]
  },
  {
   "cell_type": "code",
   "execution_count": 9,
   "metadata": {},
   "outputs": [],
   "source": [
    "lgas[\"Council Name\"] = lgas[\"Council Name\"].apply(lambda x: [i for i in x if i not in lgas[\"Council Name\"].values][0] if type(x) == list else x)"
   ]
  },
  {
   "cell_type": "code",
   "execution_count": 10,
   "metadata": {},
   "outputs": [],
   "source": [
    "lgas[\"LGA_CODE24\"] = lgas[\"LGA_CODE24\"].astype(str)"
   ]
  },
  {
   "cell_type": "code",
   "execution_count": 11,
   "metadata": {},
   "outputs": [],
   "source": [
    "lgas = lgas.merge(geometry, on=\"LGA_CODE24\")"
   ]
  },
  {
   "cell_type": "code",
   "execution_count": 12,
   "metadata": {},
   "outputs": [],
   "source": [
    "grants.loc[(grants[\"Recipient State/Territory\"] == \"TAS\") & (grants[\"Assigned LGA\"] == \"Central Coast Council\"), \"Assigned LGA\"] = \"Central Coast Council (Tas.)\""
   ]
  },
  {
   "cell_type": "code",
   "execution_count": 13,
   "metadata": {},
   "outputs": [],
   "source": [
    "grants_geo = lgas.merge(grants, left_on=\"Council Name\", right_on=\"Assigned LGA\")"
   ]
  },
  {
   "cell_type": "code",
   "execution_count": 15,
   "metadata": {},
   "outputs": [
    {
     "data": {
      "text/plain": [
       "Index(['LGA_CODE24', 'LGA_NAME24', 'STE_CODE21', 'STE_NAME21', 'AUS_CODE21',\n",
       "       'AUS_NAME21', 'AREASQKM', 'LOCI_URI21', 'Council Name', 'geometry',\n",
       "       'Agency', 'Parent GA ID', 'GA ID', 'Status', 'Publish Date',\n",
       "       'Variation Date', 'Approval Date', 'Start Date', 'End Date',\n",
       "       'Value (AUD)', 'Variation Value (AUD)', 'Variation Reason',\n",
       "       'PBS Program Name', 'Grant Program', 'Grant Activity', 'Purpose',\n",
       "       'One-off/Ad hoc', 'Aggregate', 'Aggregate Reason', 'Aggregate Number',\n",
       "       'Selection Process', 'Category', 'Internal Reference ID', 'GO ID',\n",
       "       'Confidentiality - Contract', 'Confidentiality Reason(s) - Contract',\n",
       "       'Confidentiality - Outputs', 'Confidentiality Reason(s) - Outputs',\n",
       "       'Recipient Name', 'Recipient ABN', 'Recipient Suburb',\n",
       "       'Recipient Town/City', 'Recipient Postcode',\n",
       "       'Recipient State/Territory', 'Recipient Country',\n",
       "       'Delivery State/Territory', 'Delivery Postcode', 'Delivery Country',\n",
       "       'Contact Name', 'Assigned LGA'],\n",
       "      dtype='object')"
      ]
     },
     "execution_count": 15,
     "metadata": {},
     "output_type": "execute_result"
    }
   ],
   "source": [
    "grants_geo.columns"
   ]
  },
  {
   "cell_type": "code",
   "execution_count": 16,
   "metadata": {},
   "outputs": [],
   "source": [
    "grants_geo.geometry = grants_geo.geometry.set_precision(grid_size=0.01)"
   ]
  },
  {
   "cell_type": "code",
   "execution_count": null,
   "metadata": {},
   "outputs": [],
   "source": [
    "grants_geo.explore()"
   ]
  },
  {
   "cell_type": "code",
   "execution_count": 18,
   "metadata": {},
   "outputs": [],
   "source": [
    "columns = [\n",
    "    'LGA_CODE24', 'LGA_NAME24', 'Council Name', 'Agency',\n",
    "       'Parent GA ID', 'GA ID', 'Status',\n",
    "       'Approval Date', 'Start Date', 'End Date', 'Value (AUD)',\n",
    "       'Variation Value (AUD)', 'Variation Reason', 'PBS Program Name',\n",
    "       'Grant Program', 'Grant Activity', 'Purpose', 'One-off/Ad hoc',\n",
    "       'Selection Process', 'Category', 'GO ID',\n",
    "       'Recipient Name', 'Assigned LGA', 'geometry'\n",
    "]"
   ]
  },
  {
   "cell_type": "code",
   "execution_count": 19,
   "metadata": {},
   "outputs": [],
   "source": [
    "grants_geo = grants_geo[columns]"
   ]
  },
  {
   "cell_type": "code",
   "execution_count": 20,
   "metadata": {},
   "outputs": [],
   "source": [
    "grants_geo.to_file(\"../Data/Training Data/Grants Councils.geojson\", driver=\"GeoJSON\")"
   ]
  },
  {
   "cell_type": "code",
   "execution_count": 21,
   "metadata": {},
   "outputs": [
    {
     "name": "stderr",
     "output_type": "stream",
     "text": [
      "/tmp/ipykernel_4100/2775157018.py:1: UserWarning: Column names longer than 10 characters will be truncated when saved to ESRI Shapefile.\n",
      "  grants_geo.to_file(\"../Data/Training Data/Grants Councils.shp\")\n",
      "/home/spulick/miniforge3/envs/grants/lib/python3.10/site-packages/pyogrio/raw.py:723: RuntimeWarning: Normalized/laundered field name: 'Council Name' to 'Council Na'\n",
      "  ogr_write(\n",
      "/home/spulick/miniforge3/envs/grants/lib/python3.10/site-packages/pyogrio/raw.py:723: RuntimeWarning: Normalized/laundered field name: 'Parent GA ID' to 'Parent GA'\n",
      "  ogr_write(\n",
      "/home/spulick/miniforge3/envs/grants/lib/python3.10/site-packages/pyogrio/raw.py:723: RuntimeWarning: Normalized/laundered field name: 'Approval Date' to 'Approval D'\n",
      "  ogr_write(\n",
      "/home/spulick/miniforge3/envs/grants/lib/python3.10/site-packages/pyogrio/raw.py:723: RuntimeWarning: Normalized/laundered field name: 'Value (AUD)' to 'Value (AUD'\n",
      "  ogr_write(\n",
      "/home/spulick/miniforge3/envs/grants/lib/python3.10/site-packages/pyogrio/raw.py:723: RuntimeWarning: Normalized/laundered field name: 'Variation Value (AUD)' to 'Variation'\n",
      "  ogr_write(\n",
      "/home/spulick/miniforge3/envs/grants/lib/python3.10/site-packages/pyogrio/raw.py:723: RuntimeWarning: Normalized/laundered field name: 'Variation Reason' to 'Variatio_1'\n",
      "  ogr_write(\n",
      "/home/spulick/miniforge3/envs/grants/lib/python3.10/site-packages/pyogrio/raw.py:723: RuntimeWarning: Normalized/laundered field name: 'PBS Program Name' to 'PBS Progra'\n",
      "  ogr_write(\n",
      "/home/spulick/miniforge3/envs/grants/lib/python3.10/site-packages/pyogrio/raw.py:723: RuntimeWarning: Normalized/laundered field name: 'Grant Program' to 'Grant Prog'\n",
      "  ogr_write(\n",
      "/home/spulick/miniforge3/envs/grants/lib/python3.10/site-packages/pyogrio/raw.py:723: RuntimeWarning: Normalized/laundered field name: 'Grant Activity' to 'Grant Acti'\n",
      "  ogr_write(\n",
      "/home/spulick/miniforge3/envs/grants/lib/python3.10/site-packages/pyogrio/raw.py:723: RuntimeWarning: Normalized/laundered field name: 'One-off/Ad hoc' to 'One-off/Ad'\n",
      "  ogr_write(\n",
      "/home/spulick/miniforge3/envs/grants/lib/python3.10/site-packages/pyogrio/raw.py:723: RuntimeWarning: Normalized/laundered field name: 'Selection Process' to 'Selection'\n",
      "  ogr_write(\n",
      "/home/spulick/miniforge3/envs/grants/lib/python3.10/site-packages/pyogrio/raw.py:723: RuntimeWarning: Normalized/laundered field name: 'Recipient Name' to 'Recipient'\n",
      "  ogr_write(\n",
      "/home/spulick/miniforge3/envs/grants/lib/python3.10/site-packages/pyogrio/raw.py:723: RuntimeWarning: Normalized/laundered field name: 'Assigned LGA' to 'Assigned L'\n",
      "  ogr_write(\n",
      "/home/spulick/miniforge3/envs/grants/lib/python3.10/site-packages/pyogrio/raw.py:723: RuntimeWarning: Value 'This program will engage First Nations science professionals to demonstrate First Nations history and scientific knowledge and how it can contribute to contemporary endeavours to solve challenges such as sustainable land and water management in Albury. By linking this knowledge to issues relevant to our region, the program aims to inspire participants to consider how this scientific knowledge can be applied to individual and grass-roots community efforts to solve local problems. The program will also see the science professionals engage with local secondary school science classes in a hands-on workshop designed to demonstrate the relevance of these scientific concepts to their own lives.' of field Purpose has been truncated to 254 characters.  This warning will not be emitted any more for that layer.\n",
      "  ogr_write(\n"
     ]
    }
   ],
   "source": [
    "grants_geo.to_file(\"../Data/Training Data/Grants Councils.shp\")   "
   ]
  },
  {
   "cell_type": "markdown",
   "metadata": {},
   "source": [
    "# Unincorporated"
   ]
  },
  {
   "cell_type": "code",
   "execution_count": 1,
   "metadata": {},
   "outputs": [],
   "source": [
    "import geopandas as gpd\n",
    "import pandas as pd"
   ]
  },
  {
   "cell_type": "code",
   "execution_count": 2,
   "metadata": {},
   "outputs": [],
   "source": [
    "lgas = gpd.read_file(\"../Data/Training Data/LGA_2024_AUST_GDA2020.zip\")"
   ]
  },
  {
   "cell_type": "code",
   "execution_count": 4,
   "metadata": {},
   "outputs": [],
   "source": [
    "lgas = lgas[lgas[\"LGA_NAME24\"].str.contains(\"Unincorp\")]"
   ]
  },
  {
   "cell_type": "code",
   "execution_count": 5,
   "metadata": {},
   "outputs": [
    {
     "ename": "AttributeError",
     "evalue": "'NoneType' object has no attribute 'copy'",
     "output_type": "error",
     "traceback": [
      "\u001b[0;31m---------------------------------------------------------------------------\u001b[0m",
      "\u001b[0;31mAttributeError\u001b[0m                            Traceback (most recent call last)",
      "File \u001b[0;32m~/miniforge3/envs/grants/lib/python3.10/site-packages/IPython/core/formatters.py:402\u001b[0m, in \u001b[0;36mBaseFormatter.__call__\u001b[0;34m(self, obj)\u001b[0m\n\u001b[1;32m    400\u001b[0m     \u001b[38;5;28;01mpass\u001b[39;00m\n\u001b[1;32m    401\u001b[0m \u001b[38;5;28;01melse\u001b[39;00m:\n\u001b[0;32m--> 402\u001b[0m     \u001b[38;5;28;01mreturn\u001b[39;00m \u001b[43mprinter\u001b[49m\u001b[43m(\u001b[49m\u001b[43mobj\u001b[49m\u001b[43m)\u001b[49m\n\u001b[1;32m    403\u001b[0m \u001b[38;5;66;03m# Finally look for special method names\u001b[39;00m\n\u001b[1;32m    404\u001b[0m method \u001b[38;5;241m=\u001b[39m get_real_method(obj, \u001b[38;5;28mself\u001b[39m\u001b[38;5;241m.\u001b[39mprint_method)\n",
      "Cell \u001b[0;32mIn[1], line 227\u001b[0m, in \u001b[0;36m__DW_OUTPUT_FORMATTER__.<locals>.DataWrangler.formatter\u001b[0;34m(cls, var, **kwargs)\u001b[0m\n\u001b[1;32m    225\u001b[0m \u001b[38;5;129m@classmethod\u001b[39m\n\u001b[1;32m    226\u001b[0m \u001b[38;5;28;01mdef\u001b[39;00m\u001b[38;5;250m \u001b[39m\u001b[38;5;21mformatter\u001b[39m(\u001b[38;5;28mcls\u001b[39m, var, \u001b[38;5;241m*\u001b[39m\u001b[38;5;241m*\u001b[39mkwargs):\n\u001b[0;32m--> 227\u001b[0m     s \u001b[38;5;241m=\u001b[39m \u001b[38;5;28;43mcls\u001b[39;49m\u001b[43m(\u001b[49m\u001b[43mvar\u001b[49m\u001b[43m,\u001b[49m\u001b[43m \u001b[49m\u001b[38;5;241;43m*\u001b[39;49m\u001b[38;5;241;43m*\u001b[39;49m\u001b[43mkwargs\u001b[49m\u001b[43m)\u001b[49m\n\u001b[1;32m    228\u001b[0m     \u001b[38;5;28;01mreturn\u001b[39;00m s\u001b[38;5;241m.\u001b[39m_repr_dw_()\n",
      "Cell \u001b[0;32mIn[1], line 221\u001b[0m, in \u001b[0;36m__DW_OUTPUT_FORMATTER__.<locals>.DataWrangler.__init__\u001b[0;34m(self, expr_val)\u001b[0m\n\u001b[1;32m    218\u001b[0m \u001b[38;5;28mself\u001b[39m\u001b[38;5;241m.\u001b[39mid \u001b[38;5;241m=\u001b[39m \u001b[38;5;28mstr\u001b[39m(uuid\u001b[38;5;241m.\u001b[39muuid4())\n\u001b[1;32m    219\u001b[0m pandas_df, conversion_method \u001b[38;5;241m=\u001b[39m api[\u001b[38;5;124m\"\u001b[39m\u001b[38;5;124mpandas_transport\u001b[39m\u001b[38;5;124m\"\u001b[39m][\u001b[38;5;124m\"\u001b[39m\u001b[38;5;124mconvert_to_pandas\u001b[39m\u001b[38;5;124m\"\u001b[39m](expr_val)\n\u001b[1;32m    220\u001b[0m tmp_vars[\u001b[38;5;28mself\u001b[39m\u001b[38;5;241m.\u001b[39mid] \u001b[38;5;241m=\u001b[39m {\n\u001b[0;32m--> 221\u001b[0m     \u001b[38;5;124m\"\u001b[39m\u001b[38;5;124mconverted\u001b[39m\u001b[38;5;124m\"\u001b[39m: \u001b[43mpandas_df\u001b[49m\u001b[38;5;241;43m.\u001b[39;49m\u001b[43mcopy\u001b[49m(deep\u001b[38;5;241m=\u001b[39m\u001b[38;5;28;01mFalse\u001b[39;00m), \u001b[38;5;66;03m# create a shallow copy in case a displayed object is mutated in the same cell\u001b[39;00m\n\u001b[1;32m    222\u001b[0m     \u001b[38;5;124m\"\u001b[39m\u001b[38;5;124mconversion_method\u001b[39m\u001b[38;5;124m\"\u001b[39m: conversion_method\n\u001b[1;32m    223\u001b[0m }\n",
      "\u001b[0;31mAttributeError\u001b[0m: 'NoneType' object has no attribute 'copy'"
     ]
    },
    {
     "data": {
      "text/html": [
       "<div>\n",
       "<style scoped>\n",
       "    .dataframe tbody tr th:only-of-type {\n",
       "        vertical-align: middle;\n",
       "    }\n",
       "\n",
       "    .dataframe tbody tr th {\n",
       "        vertical-align: top;\n",
       "    }\n",
       "\n",
       "    .dataframe thead th {\n",
       "        text-align: right;\n",
       "    }\n",
       "</style>\n",
       "<table border=\"1\" class=\"dataframe\">\n",
       "  <thead>\n",
       "    <tr style=\"text-align: right;\">\n",
       "      <th></th>\n",
       "      <th>LGA_CODE24</th>\n",
       "      <th>LGA_NAME24</th>\n",
       "      <th>STE_CODE21</th>\n",
       "      <th>STE_NAME21</th>\n",
       "      <th>AUS_CODE21</th>\n",
       "      <th>AUS_NAME21</th>\n",
       "      <th>AREASQKM</th>\n",
       "      <th>LOCI_URI21</th>\n",
       "      <th>geometry</th>\n",
       "    </tr>\n",
       "  </thead>\n",
       "  <tbody>\n",
       "    <tr>\n",
       "      <th>128</th>\n",
       "      <td>19399</td>\n",
       "      <td>Unincorporated NSW</td>\n",
       "      <td>1</td>\n",
       "      <td>New South Wales</td>\n",
       "      <td>AUS</td>\n",
       "      <td>Australia</td>\n",
       "      <td>93208.9194</td>\n",
       "      <td>https://linked.data.gov.au/dataset/asgsed3/LGA...</td>\n",
       "      <td>MULTIPOLYGON (((151.25862 -33.85965, 151.25865...</td>\n",
       "    </tr>\n",
       "    <tr>\n",
       "      <th>210</th>\n",
       "      <td>29399</td>\n",
       "      <td>Unincorporated Vic</td>\n",
       "      <td>2</td>\n",
       "      <td>Victoria</td>\n",
       "      <td>AUS</td>\n",
       "      <td>Australia</td>\n",
       "      <td>283.1903</td>\n",
       "      <td>https://linked.data.gov.au/dataset/asgsed3/LGA...</td>\n",
       "      <td>MULTIPOLYGON (((146.29286 -39.15778, 146.29341...</td>\n",
       "    </tr>\n",
       "    <tr>\n",
       "      <th>363</th>\n",
       "      <td>49399</td>\n",
       "      <td>Unincorporated SA</td>\n",
       "      <td>4</td>\n",
       "      <td>South Australia</td>\n",
       "      <td>AUS</td>\n",
       "      <td>Australia</td>\n",
       "      <td>619426.0858</td>\n",
       "      <td>https://linked.data.gov.au/dataset/asgsed3/LGA...</td>\n",
       "      <td>MULTIPOLYGON (((136.11505 -35.33794, 136.11491...</td>\n",
       "    </tr>\n",
       "    <tr>\n",
       "      <th>556</th>\n",
       "      <td>79399</td>\n",
       "      <td>Unincorporated NT</td>\n",
       "      <td>7</td>\n",
       "      <td>Northern Territory</td>\n",
       "      <td>AUS</td>\n",
       "      <td>Australia</td>\n",
       "      <td>19777.3595</td>\n",
       "      <td>https://linked.data.gov.au/dataset/asgsed3/LGA...</td>\n",
       "      <td>MULTIPOLYGON (((130.74789 -12.42749, 130.74985...</td>\n",
       "    </tr>\n",
       "    <tr>\n",
       "      <th>559</th>\n",
       "      <td>89399</td>\n",
       "      <td>Unincorporated ACT</td>\n",
       "      <td>8</td>\n",
       "      <td>Australian Capital Territory</td>\n",
       "      <td>AUS</td>\n",
       "      <td>Australia</td>\n",
       "      <td>2358.1330</td>\n",
       "      <td>https://linked.data.gov.au/dataset/asgsed3/LGA...</td>\n",
       "      <td>POLYGON ((149.06239 -35.1591, 149.09134 -35.14...</td>\n",
       "    </tr>\n",
       "    <tr>\n",
       "      <th>562</th>\n",
       "      <td>99399</td>\n",
       "      <td>Unincorp. Other Territories</td>\n",
       "      <td>9</td>\n",
       "      <td>Other Territories</td>\n",
       "      <td>AUS</td>\n",
       "      <td>Australia</td>\n",
       "      <td>105.8806</td>\n",
       "      <td>https://linked.data.gov.au/dataset/asgsed3/LGA...</td>\n",
       "      <td>MULTIPOLYGON (((167.94747 -29.12757, 167.94748...</td>\n",
       "    </tr>\n",
       "  </tbody>\n",
       "</table>\n",
       "</div>"
      ],
      "text/plain": [
       "    LGA_CODE24                   LGA_NAME24 STE_CODE21  \\\n",
       "128      19399           Unincorporated NSW          1   \n",
       "210      29399           Unincorporated Vic          2   \n",
       "363      49399            Unincorporated SA          4   \n",
       "556      79399            Unincorporated NT          7   \n",
       "559      89399           Unincorporated ACT          8   \n",
       "562      99399  Unincorp. Other Territories          9   \n",
       "\n",
       "                       STE_NAME21 AUS_CODE21 AUS_NAME21     AREASQKM  \\\n",
       "128               New South Wales        AUS  Australia   93208.9194   \n",
       "210                      Victoria        AUS  Australia     283.1903   \n",
       "363               South Australia        AUS  Australia  619426.0858   \n",
       "556            Northern Territory        AUS  Australia   19777.3595   \n",
       "559  Australian Capital Territory        AUS  Australia    2358.1330   \n",
       "562             Other Territories        AUS  Australia     105.8806   \n",
       "\n",
       "                                            LOCI_URI21  \\\n",
       "128  https://linked.data.gov.au/dataset/asgsed3/LGA...   \n",
       "210  https://linked.data.gov.au/dataset/asgsed3/LGA...   \n",
       "363  https://linked.data.gov.au/dataset/asgsed3/LGA...   \n",
       "556  https://linked.data.gov.au/dataset/asgsed3/LGA...   \n",
       "559  https://linked.data.gov.au/dataset/asgsed3/LGA...   \n",
       "562  https://linked.data.gov.au/dataset/asgsed3/LGA...   \n",
       "\n",
       "                                              geometry  \n",
       "128  MULTIPOLYGON (((151.25862 -33.85965, 151.25865...  \n",
       "210  MULTIPOLYGON (((146.29286 -39.15778, 146.29341...  \n",
       "363  MULTIPOLYGON (((136.11505 -35.33794, 136.11491...  \n",
       "556  MULTIPOLYGON (((130.74789 -12.42749, 130.74985...  \n",
       "559  POLYGON ((149.06239 -35.1591, 149.09134 -35.14...  \n",
       "562  MULTIPOLYGON (((167.94747 -29.12757, 167.94748...  "
      ]
     },
     "execution_count": 5,
     "metadata": {},
     "output_type": "execute_result"
    }
   ],
   "source": [
    "lgas"
   ]
  },
  {
   "cell_type": "code",
   "execution_count": 6,
   "metadata": {},
   "outputs": [],
   "source": [
    "lgas = lgas[[\"LGA_CODE24\", \"LGA_NAME24\", \"geometry\"]]"
   ]
  },
  {
   "cell_type": "code",
   "execution_count": 8,
   "metadata": {},
   "outputs": [
    {
     "name": "stderr",
     "output_type": "stream",
     "text": [
      "/home/spulick/miniforge3/envs/grants/lib/python3.10/site-packages/geopandas/geodataframe.py:1819: SettingWithCopyWarning: \n",
      "A value is trying to be set on a copy of a slice from a DataFrame.\n",
      "Try using .loc[row_indexer,col_indexer] = value instead\n",
      "\n",
      "See the caveats in the documentation: https://pandas.pydata.org/pandas-docs/stable/user_guide/indexing.html#returning-a-view-versus-a-copy\n",
      "  super().__setitem__(key, value)\n"
     ]
    }
   ],
   "source": [
    "lgas.geometry = lgas.geometry.set_precision(grid_size=0.01)"
   ]
  },
  {
   "cell_type": "code",
   "execution_count": 10,
   "metadata": {},
   "outputs": [],
   "source": [
    "lgas.to_file(\"../Data/Training Data/Unincorp.geojson\", driver=\"GeoJSON\")"
   ]
  },
  {
   "cell_type": "code",
   "execution_count": null,
   "metadata": {},
   "outputs": [],
   "source": []
  }
 ],
 "metadata": {
  "kernelspec": {
   "display_name": "grants",
   "language": "python",
   "name": "python3"
  },
  "language_info": {
   "codemirror_mode": {
    "name": "ipython",
    "version": 3
   },
   "file_extension": ".py",
   "mimetype": "text/x-python",
   "name": "python",
   "nbconvert_exporter": "python",
   "pygments_lexer": "ipython3",
   "version": "3.10.16"
  }
 },
 "nbformat": 4,
 "nbformat_minor": 2
}
